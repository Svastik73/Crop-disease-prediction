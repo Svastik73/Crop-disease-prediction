from easygui import *
from tensorflow.keras.models import load_model
from tensorflow.keras.preprocessing import image
import numpy as np
import sys

# detection=load_model('auto_chloro_model.h5')
text = 'Welcome, dear user. \nFor diagnosing leaf diseases in your crops and knowing about the cure, please capture an image of a leaf \nand click on the *Select Image* button to upload it.'


title = "File Open-Path"
  
# button list 
button_list = [] 
  
# button 1 
button1 = "Select Image"
button2 = "Exit"

# appending button to the button list 
button_list.append(button1) 
button_list.append(button2)

# creating a button box 
output = buttonbox(msg=text, title=title,  choices=button_list)
