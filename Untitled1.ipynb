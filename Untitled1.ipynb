{
 "cells": [
  {
   "cell_type": "code",
   "execution_count": 2,
   "id": "9383fe68",
   "metadata": {},
   "outputs": [],
   "source": [
    "from easygui import *\n",
    "from tensorflow.keras.models import load_model\n",
    "from tensorflow.keras.preprocessing import image\n",
    "import numpy as np\n",
    "import sys\n",
    "\n",
    "# detection=load_model('auto_chloro_model.h5')\n"
   ]
  },
  {
   "cell_type": "code",
   "execution_count": 8,
   "id": "c7e48012",
   "metadata": {},
   "outputs": [],
   "source": [
    "text = 'Welcome, dear user. \\nFor diagnosing leaf diseases in your crops and knowing about the cure, please capture an image of a leaf \\nand click on the *Select Image* button to upload it.'\n",
    "\n",
    "\n",
    "title = \"File Open-Path\"\n",
    "  \n",
    "# button list \n",
    "button_list = [] \n",
    "  \n",
    "# button 1 \n",
    "button1 = \"Select Image\"\n",
    "button2 = \"Exit\"\n",
    "\n",
    "# appending button to the button list \n",
    "button_list.append(button1) \n",
    "button_list.append(button2)\n",
    "\n",
    "# creating a button box \n",
    "output = buttonbox(msg=text, title=title,  choices=button_list) \n",
    "\n"
   ]
  },
  {
   "cell_type": "code",
   "execution_count": null,
   "id": "f0d16d6f",
   "metadata": {},
   "outputs": [],
   "source": []
  }
 ],
 "metadata": {
  "kernelspec": {
   "display_name": "Python 3 (ipykernel)",
   "language": "python",
   "name": "python3"
  },
  "language_info": {
   "codemirror_mode": {
    "name": "ipython",
    "version": 3
   },
   "file_extension": ".py",
   "mimetype": "text/x-python",
   "name": "python",
   "nbconvert_exporter": "python",
   "pygments_lexer": "ipython3",
   "version": "3.11.1"
  }
 },
 "nbformat": 4,
 "nbformat_minor": 5
}
