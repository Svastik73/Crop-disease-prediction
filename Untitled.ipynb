{
 "cells": [
  {
   "cell_type": "code",
   "execution_count": 6,
   "id": "5c553306",
   "metadata": {},
   "outputs": [
    {
     "name": "stdout",
     "output_type": "stream",
     "text": [
      " Done till \n"
     ]
    }
   ],
   "source": [
    "import os\n",
    "import tensorflow as tf\n",
    "import numpy as np\n",
    "import matplotlib.pyplot as plt\n",
    "from tensorflow.keras.layers import BatchNormalization, Activation, MaxPooling2D\n",
    "from tensorflow.keras.models import Model, Sequential\n",
    "from tensorflow.keras.optimizers import Adam\n",
    "from tensorflow.keras.callbacks import ModelCheckpoint, ReduceLROnPlateau\n",
    "from tensorflow.keras.utils import plot_model\n",
    "from IPython.display import SVG, Image\n",
    "from tensorflow.keras.preprocessing.image import ImageDataGenerator\n",
    "from tensorflow.keras.layers import Dense, Input, Dropout,Flatten, Conv2D\n",
    "print(\" Done till \")"
   ]
  },
  {
   "cell_type": "code",
   "execution_count": 7,
   "id": "c6530335",
   "metadata": {},
   "outputs": [
    {
     "name": "stdout",
     "output_type": "stream",
     "text": [
      "No.  | Condtion and type\n",
      "----------------------------------------------------\n",
      "80   |Pepper__bell___Bacterial_spot\n",
      "76   |Pepper__bell___healthy\n",
      "73   |Potato___Early_blight\n",
      "25   |Potato___healthy\n",
      "81   |Potato___Late_blight\n",
      "110   |Tomato_Bacterial_spot\n",
      "81   |Tomato_Early_blight\n",
      "97   |Tomato_healthy\n",
      "93   |Tomato_Late_blight\n",
      "73   |Tomato_Leaf_Mold\n",
      "89   |Tomato_Septoria_leaf_spot\n",
      "73   |Tomato_Spider_mites_Two_spotted_spider_mite\n",
      "97   |Tomato__Target_Spot\n",
      "65   |Tomato__Tomato_mosaic_virus\n",
      "141   |Tomato__Tomato_YellowLeaf__Curl_Virus\n"
     ]
    }
   ],
   "source": [
    "print(\"No.  | Condtion and type\")\n",
    "print(\"----------------------------------------------------\")\n",
    "for types in os.listdir(\"C:\\\\Users\\\\Svastik Kanwar\\\\SIH\\\\drive\\\\My Drive\\\\test_set\"):\n",
    "    path = \"C:\\\\Users\\\\Svastik Kanwar\\\\SIH\\\\drive\\\\My Drive\\\\test_set\\\\\" + types\n",
    "    print(str(len(os.listdir(path))) + \"   |\" + types)"
   ]
  },
  {
   "cell_type": "code",
   "execution_count": 8,
   "id": "50e1be87",
   "metadata": {},
   "outputs": [
    {
     "name": "stdout",
     "output_type": "stream",
     "text": [
      "Found 19385 images belonging to 15 classes.\n",
      "Found 1254 images belonging to 15 classes.\n"
     ]
    }
   ],
   "source": [
    "from tensorflow.keras.preprocessing.image import ImageDataGenerator\n",
    "pixel = 48\n",
    "batch_size = 64\n",
    "base_dir = r\"C:\\Users\\Svastik Kanwar\\SIH\\drive\\My Drive\"   # r is used to remove escape problems!\n",
    "#  data augmentation parameter\n",
    "datagen = ImageDataGenerator(horizontal_flip=True)\n",
    "# Train data generator\n",
    "train_generator = datagen.flow_from_directory(\n",
    "    directory=base_dir+\"\\\\train_set\",\n",
    "    target_size=(pixel,pixel), #pixel x pixel sized image\n",
    "    batch_size=batch_size,\n",
    "    class_mode='categorical',\n",
    "    shuffle=True\n",
    ")\n",
    "# Test set generator\n",
    "validation_generator = datagen.flow_from_directory(\n",
    "    directory=base_dir+\"\\\\test_set\",\n",
    "    target_size=(pixel,pixel),\n",
    "    batch_size=batch_size,\n",
    "    class_mode='categorical',\n",
    "    shuffle=True\n",
    ")   "
   ]
  },
  {
   "cell_type": "code",
   "execution_count": 12,
   "id": "e5fb646b",
   "metadata": {},
   "outputs": [],
   "source": [
    "detection=Sequential()\n",
    "\n",
    "#layer-1\n",
    "detection.add(Conv2D(64,(3,3),padding='same',input_shape=(48,48,3)))\n",
    "detection.add(BatchNormalization())\n",
    "detection.add(Activation('relu'))\n",
    "detection.add(MaxPooling2D(pool_size=(2,2)))\n",
    "detection.add(Dropout(0.25))\n",
    "\n",
    "#2 -convolutional layer-2\n",
    "detection.add(Conv2D(128,(5,5),padding='same'))\n",
    "detection.add(BatchNormalization())\n",
    "detection.add(Activation('relu'))\n",
    "detection.add(MaxPooling2D(pool_size=(2,2)))\n",
    "detection.add(Dropout(0.25))\n",
    "\n",
    "#3 -convolutional layer-3\n",
    "detection.add(Conv2D(512,(3,3),padding='same'))\n",
    "detection.add(BatchNormalization())\n",
    "detection.add(Activation('relu'))\n",
    "detection.add(MaxPooling2D(pool_size=(2,2)))\n",
    "detection.add(Dropout(0.25))\n",
    "\n",
    "#4 -convolutional layer-4\n",
    "detection.add(Conv2D(1024,(3,3),padding='same'))\n",
    "detection.add(BatchNormalization())\n",
    "detection.add(Activation('relu'))\n",
    "detection.add(MaxPooling2D(pool_size=(2,2)))\n",
    "detection.add(Dropout(0.25))\n",
    "\n",
    "detection.add(Flatten())\n",
    "detection.add(Dense(256))\n",
    "detection.add(BatchNormalization())\n",
    "detection.add(Activation('relu'))\n",
    "detection.add(Dropout(0.25))\n",
    "\n",
    "detection.add(Dense(512))\n",
    "detection.add(BatchNormalization())\n",
    "detection.add(Activation('relu'))\n",
    "detection.add(Dropout(0.25))\n",
    "\n",
    "detection.add(Dense(15,activation='softmax'))\n",
    "optimum=Adam(learning_rate=0.005)\n",
    "detection.compile(optimizer=optimum,loss='categorical_crossentropy',metrics=['accuracy'])\n"
   ]
  },
  {
   "cell_type": "code",
   "execution_count": 10,
   "id": "034d5b9a",
   "metadata": {},
   "outputs": [
    {
     "name": "stdout",
     "output_type": "stream",
     "text": [
      "Model: \"sequential\"\n",
      "_________________________________________________________________\n",
      " Layer (type)                Output Shape              Param #   \n",
      "=================================================================\n",
      " conv2d (Conv2D)             (None, 48, 48, 64)        1792      \n",
      "                                                                 \n",
      " batch_normalization (BatchN  (None, 48, 48, 64)       256       \n",
      " ormalization)                                                   \n",
      "                                                                 \n",
      " activation (Activation)     (None, 48, 48, 64)        0         \n",
      "                                                                 \n",
      " max_pooling2d (MaxPooling2D  (None, 24, 24, 64)       0         \n",
      " )                                                               \n",
      "                                                                 \n",
      " dropout (Dropout)           (None, 24, 24, 64)        0         \n",
      "                                                                 \n",
      " conv2d_1 (Conv2D)           (None, 24, 24, 128)       204928    \n",
      "                                                                 \n",
      " batch_normalization_1 (Batc  (None, 24, 24, 128)      512       \n",
      " hNormalization)                                                 \n",
      "                                                                 \n",
      " activation_1 (Activation)   (None, 24, 24, 128)       0         \n",
      "                                                                 \n",
      " max_pooling2d_1 (MaxPooling  (None, 12, 12, 128)      0         \n",
      " 2D)                                                             \n",
      "                                                                 \n",
      " dropout_1 (Dropout)         (None, 12, 12, 128)       0         \n",
      "                                                                 \n",
      " conv2d_2 (Conv2D)           (None, 12, 12, 512)       590336    \n",
      "                                                                 \n",
      " batch_normalization_2 (Batc  (None, 12, 12, 512)      2048      \n",
      " hNormalization)                                                 \n",
      "                                                                 \n",
      " activation_2 (Activation)   (None, 12, 12, 512)       0         \n",
      "                                                                 \n",
      " max_pooling2d_2 (MaxPooling  (None, 6, 6, 512)        0         \n",
      " 2D)                                                             \n",
      "                                                                 \n",
      " dropout_2 (Dropout)         (None, 6, 6, 512)         0         \n",
      "                                                                 \n",
      " conv2d_3 (Conv2D)           (None, 6, 6, 1024)        4719616   \n",
      "                                                                 \n",
      " batch_normalization_3 (Batc  (None, 6, 6, 1024)       4096      \n",
      " hNormalization)                                                 \n",
      "                                                                 \n",
      " activation_3 (Activation)   (None, 6, 6, 1024)        0         \n",
      "                                                                 \n",
      " max_pooling2d_3 (MaxPooling  (None, 3, 3, 1024)       0         \n",
      " 2D)                                                             \n",
      "                                                                 \n",
      " dropout_3 (Dropout)         (None, 3, 3, 1024)        0         \n",
      "                                                                 \n",
      " flatten (Flatten)           (None, 9216)              0         \n",
      "                                                                 \n",
      " dense (Dense)               (None, 256)               2359552   \n",
      "                                                                 \n",
      " batch_normalization_4 (Batc  (None, 256)              1024      \n",
      " hNormalization)                                                 \n",
      "                                                                 \n",
      " activation_4 (Activation)   (None, 256)               0         \n",
      "                                                                 \n",
      " dropout_4 (Dropout)         (None, 256)               0         \n",
      "                                                                 \n",
      " dense_1 (Dense)             (None, 512)               131584    \n",
      "                                                                 \n",
      " batch_normalization_5 (Batc  (None, 512)              2048      \n",
      " hNormalization)                                                 \n",
      "                                                                 \n",
      " activation_5 (Activation)   (None, 512)               0         \n",
      "                                                                 \n",
      " dropout_5 (Dropout)         (None, 512)               0         \n",
      "                                                                 \n",
      " dense_2 (Dense)             (None, 15)                7695      \n",
      "                                                                 \n",
      "=================================================================\n",
      "Total params: 8,025,487\n",
      "Trainable params: 8,020,495\n",
      "Non-trainable params: 4,992\n",
      "_________________________________________________________________\n"
     ]
    }
   ],
   "source": [
    "detection.summary()"
   ]
  },
  {
   "cell_type": "code",
   "execution_count": 9,
   "id": "a2e4a104",
   "metadata": {},
   "outputs": [
    {
     "name": "stdout",
     "output_type": "stream",
     "text": [
      "Epoch 1/15\n",
      "302/302 [==============================] - 799s 3s/step - loss: 0.9944 - accuracy: 0.6756 - val_loss: 7.4501 - val_accuracy: 0.2492\n",
      "Epoch 2/15\n",
      "302/302 [==============================] - 873s 3s/step - loss: 0.5174 - accuracy: 0.8286 - val_loss: 1.0930 - val_accuracy: 0.6637\n",
      "Epoch 3/15\n",
      "302/302 [==============================] - 933s 3s/step - loss: 0.3955 - accuracy: 0.8659 - val_loss: 0.5840 - val_accuracy: 0.8125\n",
      "Epoch 4/15\n",
      "302/302 [==============================] - 837s 3s/step - loss: 0.3028 - accuracy: 0.8987 - val_loss: 1.9096 - val_accuracy: 0.5280\n",
      "Epoch 5/15\n",
      "302/302 [==============================] - 859s 3s/step - loss: 0.2616 - accuracy: 0.9110 - val_loss: 0.4864 - val_accuracy: 0.8363\n",
      "Epoch 6/15\n",
      "302/302 [==============================] - 892s 3s/step - loss: 0.2312 - accuracy: 0.9210 - val_loss: 6.4844 - val_accuracy: 0.4326\n",
      "Epoch 7/15\n",
      "302/302 [==============================] - 854s 3s/step - loss: 0.1957 - accuracy: 0.9357 - val_loss: 3.5587 - val_accuracy: 0.5378\n",
      "Epoch 8/15\n",
      "302/302 [==============================] - 434s 1s/step - loss: 0.1911 - accuracy: 0.9366 - val_loss: 0.6288 - val_accuracy: 0.7985\n",
      "Epoch 9/15\n",
      "302/302 [==============================] - 470s 2s/step - loss: 0.1563 - accuracy: 0.9474 - val_loss: 0.4092 - val_accuracy: 0.8758\n",
      "Epoch 10/15\n",
      "302/302 [==============================] - 583s 2s/step - loss: 0.1552 - accuracy: 0.9473 - val_loss: 0.5197 - val_accuracy: 0.8676\n",
      "Epoch 11/15\n",
      "302/302 [==============================] - 743s 2s/step - loss: 0.1407 - accuracy: 0.9523 - val_loss: 1.1038 - val_accuracy: 0.6900\n",
      "Epoch 12/15\n",
      "302/302 [==============================] - 843s 3s/step - loss: 0.1320 - accuracy: 0.9556 - val_loss: 2.6320 - val_accuracy: 0.6201\n",
      "Epoch 13/15\n",
      "302/302 [==============================] - 451s 1s/step - loss: 0.1275 - accuracy: 0.9567 - val_loss: 1.8705 - val_accuracy: 0.6332\n",
      "Epoch 14/15\n",
      "302/302 [==============================] - 908s 3s/step - loss: 0.1234 - accuracy: 0.9590 - val_loss: 4.6186 - val_accuracy: 0.5748\n",
      "Epoch 15/15\n",
      "302/302 [==============================] - 542s 2s/step - loss: 0.1140 - accuracy: 0.9626 - val_loss: 0.5317 - val_accuracy: 0.8709\n"
     ]
    }
   ],
   "source": [
    "steps=15  #no of times you will pass data through training model\n",
    "steps_per_epoch=train_generator.n//train_generator.batch_size\n",
    "steps_per_epoch\n",
    "validation_steps=validation_generator.n//validation_generator.batch_size\n",
    "validation_steps\n",
    "detection.fit(x=train_generator,\n",
    "                    steps_per_epoch=steps_per_epoch,\n",
    "                    epochs=steps,\n",
    "                    validation_data=validation_generator,\n",
    "                    validation_steps=validation_steps)\n",
    "detection.save('auto_chloro_model.h5')"
   ]
  },
  {
   "cell_type": "code",
   "execution_count": 11,
   "id": "5f96bb07",
   "metadata": {},
   "outputs": [
    {
     "name": "stdout",
     "output_type": "stream",
     "text": [
      "1/1 [==============================] - 1s 695ms/step\n"
     ]
    },
    {
     "data": {
      "text/plain": [
       "'Potato___Late_blight'"
      ]
     },
     "execution_count": 11,
     "metadata": {},
     "output_type": "execute_result"
    },
    {
     "data": {
      "image/png": "[encoded data removed]",
      "text/plain": [
       "<Figure size 640x480 with 1 Axes>"
      ]
     },
     "metadata": {},
     "output_type": "display_data"
    }
   ],
   "source": [
    "from tensorflow.keras.preprocessing import image\n",
    "from tensorflow.keras.models import load_model\n",
    "\n",
    "test_img=image.load_img(\"0a9ce4eb-961b-4f11-a06f-2946cfd0d562___UF.GRC_YLCV_Lab 02233.JPG\",target_size=(48,48))\n",
    "plt.imshow(test_img)\n",
    "test_img=image.img_to_array(test_img)\n",
    "test_img=np.expand_dims(test_img,axis=0)\n",
    "result=detection.predict(test_img)\n",
    "a=result.argmax()\n",
    "classes=train_generator.class_indices\n",
    "category=[]\n",
    "for i in classes:\n",
    "          category.append(i)\n",
    "for i in range(len(classes)):\n",
    "           if(i==a):\n",
    "                output=category[i]\n",
    "output  "
   ]
  },
  {
   "cell_type": "code",
   "execution_count": null,
   "id": "f75392bd",
   "metadata": {},
   "outputs": [],
   "source": []
  }
 ],
 "metadata": {
  "kernelspec": {
   "display_name": "Python 3 (ipykernel)",
   "language": "python",
   "name": "python3"
  },
  "language_info": {
   "codemirror_mode": {
    "name": "ipython",
    "version": 3
   },
   "file_extension": ".py",
   "mimetype": "text/x-python",
   "name": "python",
   "nbconvert_exporter": "python",
   "pygments_lexer": "ipython3",
   "version": "3.11.1"
  }
 },
 "nbformat": 4,
 "nbformat_minor": 5
}
